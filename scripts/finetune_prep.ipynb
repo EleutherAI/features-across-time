{
 "cells": [
  {
   "cell_type": "code",
   "execution_count": 1,
   "metadata": {},
   "outputs": [
    {
     "name": "stdout",
     "output_type": "stream",
     "text": [
      "Requirement already satisfied: mwparserfromhell in /mnt/ssd-1/lucia/miniconda3/envs/3.10/lib/python3.10/site-packages (0.6.6)\n"
     ]
    }
   ],
   "source": [
    "!pip install mwparserfromhell"
   ]
  },
  {
   "cell_type": "code",
   "execution_count": 5,
   "metadata": {},
   "outputs": [],
   "source": [
    "import os\n",
    "\n",
    "from datasets import load_dataset, DownloadConfig\n",
    "import numpy as np\n",
    "from transformers import AutoTokenizer\n",
    "from scripts.chunk import chunk_and_tokenize"
   ]
  },
  {
   "cell_type": "code",
   "execution_count": 5,
   "metadata": {},
   "outputs": [
    {
     "name": "stdout",
     "output_type": "stream",
     "text": [
      "environ({'USER': 'lucia', 'SSH_CLIENT': '119.18.1.138 12430 22', 'SHLVL': '1', 'MOTD_SHOWN': 'pam', 'HOME': '/home/lucia', 'OLDPWD': '/home/lucia', 'SSL_CERT_FILE': '/usr/lib/ssl/certs/ca-certificates.crt', 'LOGNAME': 'lucia', '_': '/mnt/ssd-1/lucia/miniconda3/envs/3.10/bin/python', 'VSCODE_CLI_REQUIRE_TOKEN': '2f723f8f-d707-4f55-b012-db8b709ae4b4', 'PATH': '/mnt/ssd-1/lucia/miniconda3/envs/3.10/bin:/home/lucia/.vscode-server/cli/servers/Stable-863d2581ecda6849923a2118d93a088b0745d9d6/server/bin/remote-cli:/mnt/ssd-1/lucia/miniconda3/envs/3.10/bin:/mnt/ssd-1/lucia/miniconda3/condabin:/mnt/ssd-1/lucia/miniconda3/bin:/home/lucia/.cargo/bin:/usr/local/sbin:/usr/local/bin:/usr/sbin:/usr/bin:/sbin:/bin:/usr/games:/usr/local/games:/snap/bin', 'VSCODE_AGENT_FOLDER': '/home/lucia/.vscode-server', 'SSL_CERT_DIR': '/usr/lib/ssl/certs', 'SSH_AUTH_SOCK': '/tmp/ssh-M4NXPRM9Yq/agent.1861034', 'SHELL': '/bin/zsh', 'PWD': '/home/lucia', 'SSH_CONNECTION': '119.18.1.138 12430 10.147.243.154 22', 'VSCODE_HANDLES_SIGPIPE': 'true', 'HF_DATASETS_CACHE': '/mnt/ssd-1/hf_cache', 'HF_HOME': '/mnt/ssd-1/hf_cache', 'P9K_SSH': '1', '_P9K_SSH_TTY': '', 'CONDA_EXE': '/mnt/ssd-1/lucia/miniconda3/bin/conda', '_CE_M': '', '_CE_CONDA': '', 'CONDA_PYTHON_EXE': '/mnt/ssd-1/lucia/miniconda3/bin/python', 'CONDA_SHLVL': '2', 'CONDA_PREFIX': '/mnt/ssd-1/lucia/miniconda3/envs/3.10', 'CONDA_DEFAULT_ENV': '3.10', 'CONDA_PROMPT_MODIFIER': '(3.10) ', 'VSCODE_AMD_ENTRYPOINT': 'vs/workbench/api/node/extensionHostProcess', 'VSCODE_HANDLES_UNCAUGHT_ERRORS': 'true', 'VSCODE_NLS_CONFIG': '{\"locale\":\"en\",\"osLocale\":\"en\",\"availableLanguages\":{}}', 'BROWSER': '/home/lucia/.vscode-server/cli/servers/Stable-863d2581ecda6849923a2118d93a088b0745d9d6/server/bin/helpers/browser.sh', 'VSCODE_CWD': '/home/lucia', 'ELECTRON_RUN_AS_NODE': '1', 'VSCODE_IPC_HOOK_CLI': '/tmp/vscode-ipc-0976758c-7384-40ce-a4bf-cb523c3530b6.sock', 'VSCODE_L10N_BUNDLE_LOCATION': '', 'PYTHONUNBUFFERED': '1', 'CONDA_ROOT': '/mnt/ssd-1/lucia/miniconda3', 'PYTHONIOENCODING': 'utf-8', 'LC_CTYPE': 'C.UTF-8', 'CONDA_PREFIX_1': '/mnt/ssd-1/lucia/miniconda3', 'PYDEVD_IPYTHON_COMPATIBLE_DEBUGGING': '1', 'PYDEVD_USE_FRAME_EVAL': 'NO', 'TERM': 'xterm-color', 'CLICOLOR': '1', 'FORCE_COLOR': '1', 'CLICOLOR_FORCE': '1', 'PAGER': 'cat', 'GIT_PAGER': 'cat', 'MPLBACKEND': 'module://matplotlib_inline.backend_inline'})\n"
     ]
    }
   ],
   "source": [
    "print(os.environ)"
   ]
  },
  {
   "cell_type": "code",
   "execution_count": 2,
   "metadata": {},
   "outputs": [
    {
     "name": "stderr",
     "output_type": "stream",
     "text": [
      "Downloading readme: 100%|██████████| 41.1k/41.1k [00:00<00:00, 48.6MB/s]\n",
      "Downloading data: 100%|██████████| 303M/303M [00:05<00:00, 57.2MB/s] \n",
      "Downloading data: 100%|██████████| 303M/303M [00:03<00:00, 78.6MB/s] \n",
      "Downloading data: 100%|██████████| 302M/302M [00:03<00:00, 83.4MB/s] \n",
      "Downloading data: 100%|██████████| 304M/304M [00:03<00:00, 79.2MB/s] \n",
      "Downloading data: 100%|██████████| 303M/303M [00:03<00:00, 76.4MB/s] \n",
      "Downloading data: 100%|██████████| 304M/304M [00:03<00:00, 78.8MB/s] \n",
      "Downloading data: 100%|██████████| 307M/307M [00:03<00:00, 84.2MB/s] \n",
      "Downloading data: 100%|██████████| 305M/305M [00:03<00:00, 84.3MB/s] \n",
      "Downloading data: 100%|██████████| 301M/301M [00:03<00:00, 77.7MB/s] \n",
      "Downloading data: 100%|██████████| 307M/307M [00:03<00:00, 79.9MB/s] \n",
      "Downloading data: 100%|██████████| 303M/303M [00:04<00:00, 74.5MB/s] \n",
      "Downloading data: 100%|██████████| 303M/303M [00:06<00:00, 47.1MB/s] \n",
      "Downloading data: 100%|██████████| 303M/303M [00:04<00:00, 67.7MB/s] \n",
      "Downloading data: 100%|██████████| 304M/304M [00:04<00:00, 69.7MB/s] \n",
      "Downloading data: 100%|██████████| 304M/304M [00:04<00:00, 72.4MB/s] \n",
      "Downloading data: 100%|██████████| 303M/303M [00:03<00:00, 77.4MB/s] \n",
      "Downloading data: 100%|██████████| 304M/304M [00:04<00:00, 66.8MB/s] \n",
      "Downloading data: 100%|██████████| 304M/304M [00:04<00:00, 74.7MB/s] \n",
      "Downloading data: 100%|██████████| 303M/303M [00:03<00:00, 79.1MB/s] \n",
      "Downloading data: 100%|██████████| 304M/304M [00:04<00:00, 72.8MB/s] \n",
      "Downloading data: 100%|██████████| 302M/302M [00:04<00:00, 71.8MB/s] \n",
      "Downloading data: 100%|██████████| 305M/305M [00:03<00:00, 81.1MB/s] \n",
      "Downloading data: 100%|██████████| 303M/303M [00:04<00:00, 75.5MB/s] \n",
      "Downloading data: 100%|██████████| 302M/302M [00:03<00:00, 80.9MB/s] \n",
      "Downloading data: 100%|██████████| 303M/303M [00:04<00:00, 61.6MB/s] \n",
      "Downloading data: 100%|██████████| 303M/303M [00:04<00:00, 65.9MB/s] \n",
      "Downloading data: 100%|██████████| 305M/305M [00:04<00:00, 72.5MB/s] \n",
      "Downloading data: 100%|██████████| 304M/304M [00:03<00:00, 81.2MB/s] \n",
      "Downloading data: 100%|██████████| 305M/305M [00:03<00:00, 79.7MB/s] \n",
      "Downloading data: 100%|██████████| 303M/303M [00:03<00:00, 78.3MB/s] \n",
      "Downloading data: 100%|██████████| 301M/301M [00:03<00:00, 76.1MB/s] \n",
      "Downloading data: 100%|██████████| 304M/304M [00:03<00:00, 86.8MB/s] \n",
      "Downloading data: 100%|██████████| 305M/305M [00:04<00:00, 66.9MB/s] \n",
      "Downloading data: 100%|██████████| 301M/301M [00:04<00:00, 67.5MB/s] \n",
      "Downloading data: 100%|██████████| 305M/305M [00:04<00:00, 73.8MB/s] \n",
      "Downloading data: 100%|██████████| 304M/304M [00:04<00:00, 65.4MB/s] \n",
      "Downloading data: 100%|██████████| 304M/304M [00:04<00:00, 75.4MB/s] \n",
      "Downloading data: 100%|██████████| 306M/306M [00:05<00:00, 59.6MB/s] \n",
      "Downloading data: 100%|██████████| 303M/303M [00:03<00:00, 76.7MB/s] \n",
      "Downloading data: 100%|██████████| 304M/304M [00:03<00:00, 78.1MB/s] \n",
      "Downloading data: 100%|██████████| 302M/302M [00:04<00:00, 71.4MB/s] \n",
      "Downloading data: 100%|██████████| 304M/304M [00:03<00:00, 77.5MB/s] \n",
      "Downloading data: 100%|██████████| 306M/306M [00:03<00:00, 76.9MB/s] \n",
      "Downloading data: 100%|██████████| 305M/305M [00:05<00:00, 54.7MB/s] \n",
      "Downloading data: 100%|██████████| 304M/304M [00:04<00:00, 75.9MB/s] \n",
      "Downloading data: 100%|██████████| 303M/303M [00:04<00:00, 69.5MB/s] \n",
      "Downloading data: 100%|██████████| 303M/303M [00:04<00:00, 70.7MB/s] \n",
      "Downloading data: 100%|██████████| 301M/301M [00:03<00:00, 86.9MB/s] \n",
      "Downloading data: 100%|██████████| 305M/305M [00:05<00:00, 57.0MB/s] \n",
      "Downloading data: 100%|██████████| 302M/302M [00:04<00:00, 67.4MB/s] \n",
      "Downloading data: 100%|██████████| 304M/304M [00:03<00:00, 77.2MB/s] \n",
      "Downloading data: 100%|██████████| 301M/301M [00:04<00:00, 67.8MB/s] \n",
      "Downloading data: 100%|██████████| 304M/304M [00:05<00:00, 54.8MB/s] \n",
      "Downloading data: 100%|██████████| 305M/305M [00:03<00:00, 87.5MB/s] \n",
      "Downloading data: 100%|██████████| 305M/305M [00:03<00:00, 80.2MB/s] \n",
      "Downloading data: 100%|██████████| 304M/304M [00:03<00:00, 83.6MB/s] \n",
      "Downloading data: 100%|██████████| 305M/305M [00:03<00:00, 85.3MB/s] \n",
      "Downloading data: 100%|██████████| 302M/302M [00:03<00:00, 86.5MB/s] \n",
      "Downloading data: 100%|██████████| 305M/305M [00:03<00:00, 85.3MB/s] \n",
      "Downloading data: 100%|██████████| 305M/305M [00:04<00:00, 67.8MB/s] \n",
      "Downloading data: 100%|██████████| 304M/304M [00:03<00:00, 82.3MB/s] \n",
      "Downloading data: 100%|██████████| 303M/303M [00:04<00:00, 68.8MB/s] \n",
      "Downloading data: 100%|██████████| 305M/305M [00:03<00:00, 85.0MB/s] \n",
      "Downloading data: 100%|██████████| 304M/304M [00:03<00:00, 82.5MB/s] \n",
      "Downloading data: 100%|██████████| 303M/303M [00:04<00:00, 73.6MB/s] \n",
      "Downloading data: 100%|██████████| 303M/303M [00:03<00:00, 89.0MB/s] \n",
      "Downloading data: 100%|██████████| 303M/303M [00:03<00:00, 80.0MB/s] \n",
      "Downloading data: 100%|██████████| 305M/305M [00:03<00:00, 88.5MB/s] \n",
      "Downloading data: 100%|██████████| 304M/304M [00:04<00:00, 62.1MB/s] \n",
      "Downloading data: 100%|██████████| 303M/303M [00:05<00:00, 59.3MB/s] \n",
      "Downloading data: 100%|██████████| 305M/305M [00:05<00:00, 57.8MB/s] \n",
      "Downloading data: 100%|██████████| 306M/306M [00:04<00:00, 65.7MB/s] \n",
      "Downloading data: 100%|██████████| 304M/304M [00:04<00:00, 75.5MB/s] \n",
      "Downloading data: 100%|██████████| 302M/302M [00:03<00:00, 79.0MB/s] \n",
      "Downloading data: 100%|██████████| 303M/303M [00:03<00:00, 81.1MB/s] \n",
      "Downloading data: 100%|██████████| 304M/304M [00:04<00:00, 69.8MB/s] \n",
      "Downloading data: 100%|██████████| 304M/304M [00:03<00:00, 78.5MB/s] \n",
      "Downloading data: 100%|██████████| 304M/304M [00:03<00:00, 86.4MB/s] \n",
      "Downloading data: 100%|██████████| 304M/304M [00:04<00:00, 65.5MB/s] \n",
      "Downloading data: 100%|██████████| 304M/304M [00:04<00:00, 64.3MB/s] \n",
      "Downloading data: 100%|██████████| 303M/303M [00:04<00:00, 70.0MB/s] \n",
      "Downloading data: 100%|██████████| 304M/304M [00:03<00:00, 78.2MB/s] \n",
      "Downloading data: 100%|██████████| 304M/304M [00:05<00:00, 51.6MB/s] \n",
      "Downloading data: 100%|██████████| 303M/303M [00:03<00:00, 81.7MB/s] \n",
      "Downloading data: 100%|██████████| 302M/302M [00:04<00:00, 75.0MB/s] \n",
      "Downloading data: 100%|██████████| 305M/305M [00:03<00:00, 77.3MB/s] \n",
      "Downloading data: 100%|██████████| 304M/304M [00:03<00:00, 87.7MB/s] \n",
      "Downloading data: 100%|██████████| 305M/305M [00:03<00:00, 78.6MB/s] \n",
      "Downloading data: 100%|██████████| 303M/303M [00:04<00:00, 69.9MB/s] \n",
      "Downloading data: 100%|██████████| 304M/304M [00:03<00:00, 84.1MB/s] \n",
      "Downloading data: 100%|██████████| 303M/303M [00:04<00:00, 75.4MB/s] \n",
      "Downloading data: 100%|██████████| 304M/304M [00:03<00:00, 81.3MB/s] \n",
      "Downloading data: 100%|██████████| 303M/303M [00:03<00:00, 83.8MB/s] \n",
      "Downloading data: 100%|██████████| 302M/302M [00:03<00:00, 78.0MB/s] \n",
      "Downloading data: 100%|██████████| 306M/306M [00:05<00:00, 57.2MB/s] \n",
      "Downloading data: 100%|██████████| 303M/303M [00:04<00:00, 64.5MB/s] \n",
      "Downloading data: 100%|██████████| 303M/303M [00:04<00:00, 65.7MB/s] \n",
      "Downloading data: 100%|██████████| 301M/301M [00:03<00:00, 88.7MB/s] \n",
      "Downloading data: 100%|██████████| 306M/306M [00:04<00:00, 72.0MB/s] \n",
      "Downloading data: 100%|██████████| 304M/304M [00:04<00:00, 69.4MB/s] \n",
      "Downloading data: 100%|██████████| 304M/304M [00:04<00:00, 71.2MB/s] \n",
      "Downloading data: 100%|██████████| 304M/304M [00:04<00:00, 63.7MB/s] \n",
      "Downloading data: 100%|██████████| 302M/302M [00:03<00:00, 87.5MB/s] \n",
      "Downloading data: 100%|██████████| 304M/304M [00:03<00:00, 79.9MB/s] \n",
      "Downloading data: 100%|██████████| 302M/302M [00:07<00:00, 40.1MB/s] \n",
      "Downloading data: 100%|██████████| 304M/304M [00:04<00:00, 69.1MB/s] \n",
      "Downloading data: 100%|██████████| 304M/304M [00:06<00:00, 48.8MB/s] \n",
      "Downloading data: 100%|██████████| 303M/303M [00:04<00:00, 62.2MB/s] \n",
      "Downloading data: 100%|██████████| 302M/302M [00:04<00:00, 64.1MB/s] \n",
      "Downloading data: 100%|██████████| 303M/303M [00:04<00:00, 68.0MB/s] \n",
      "Downloading data: 100%|██████████| 303M/303M [00:04<00:00, 71.1MB/s] \n",
      "Downloading data: 100%|██████████| 302M/302M [00:03<00:00, 78.4MB/s] \n",
      "Downloading data: 100%|██████████| 304M/304M [00:04<00:00, 61.4MB/s] \n",
      "Downloading data: 100%|██████████| 304M/304M [00:03<00:00, 77.1MB/s] \n",
      "Downloading data: 100%|██████████| 302M/302M [00:03<00:00, 90.4MB/s] \n",
      "Downloading data: 100%|██████████| 302M/302M [00:04<00:00, 74.7MB/s] \n",
      "Downloading data: 100%|██████████| 305M/305M [00:03<00:00, 80.0MB/s] \n",
      "Downloading data: 100%|██████████| 304M/304M [00:03<00:00, 87.1MB/s] \n",
      "Downloading data: 100%|██████████| 302M/302M [00:04<00:00, 73.7MB/s] \n",
      "Downloading data: 100%|██████████| 303M/303M [00:03<00:00, 81.2MB/s] \n",
      "Downloading data: 100%|██████████| 304M/304M [00:03<00:00, 79.1MB/s] \n",
      "Downloading data: 100%|██████████| 302M/302M [00:05<00:00, 56.9MB/s] \n",
      "Downloading data: 100%|██████████| 303M/303M [00:03<00:00, 77.7MB/s] \n",
      "Downloading data: 100%|██████████| 305M/305M [00:03<00:00, 80.3MB/s] \n",
      "Downloading data: 100%|██████████| 303M/303M [00:03<00:00, 89.4MB/s] \n",
      "Downloading data: 100%|██████████| 302M/302M [00:03<00:00, 79.7MB/s] \n",
      "Downloading data: 100%|██████████| 303M/303M [00:03<00:00, 76.5MB/s] \n",
      "Downloading data: 100%|██████████| 304M/304M [00:03<00:00, 84.3MB/s] \n",
      "Downloading data: 100%|██████████| 302M/302M [00:04<00:00, 66.6MB/s] \n",
      "Downloading data: 100%|██████████| 304M/304M [00:03<00:00, 79.1MB/s] \n",
      "Downloading data: 100%|██████████| 304M/304M [00:04<00:00, 72.5MB/s] \n",
      "Downloading data: 100%|██████████| 303M/303M [00:03<00:00, 79.4MB/s] \n",
      "Downloading data: 100%|██████████| 304M/304M [00:03<00:00, 77.6MB/s] \n",
      "Downloading data: 100%|██████████| 304M/304M [00:03<00:00, 81.7MB/s] \n",
      "Downloading data: 100%|██████████| 304M/304M [00:04<00:00, 75.1MB/s] \n",
      "Downloading data: 100%|██████████| 305M/305M [00:04<00:00, 66.3MB/s] \n",
      "Downloading data: 100%|██████████| 303M/303M [00:03<00:00, 84.3MB/s] \n",
      "Downloading data: 100%|██████████| 305M/305M [00:03<00:00, 81.3MB/s] \n",
      "Downloading data: 100%|██████████| 303M/303M [00:03<00:00, 82.0MB/s] \n",
      "Downloading data: 100%|██████████| 304M/304M [00:03<00:00, 78.5MB/s] \n",
      "Downloading data: 100%|██████████| 304M/304M [00:04<00:00, 62.2MB/s] \n",
      "Downloading data: 100%|██████████| 303M/303M [00:04<00:00, 71.5MB/s] \n",
      "Downloading data: 100%|██████████| 303M/303M [00:03<00:00, 80.5MB/s] \n",
      "Downloading data: 100%|██████████| 304M/304M [00:04<00:00, 72.6MB/s] \n",
      "Downloading data: 100%|██████████| 305M/305M [00:04<00:00, 74.0MB/s] \n",
      "Downloading data: 100%|██████████| 304M/304M [00:03<00:00, 88.1MB/s] \n",
      "Downloading data: 100%|██████████| 303M/303M [00:04<00:00, 74.1MB/s] \n",
      "Downloading data: 100%|██████████| 306M/306M [00:03<00:00, 87.2MB/s] \n",
      "Downloading data: 100%|██████████| 303M/303M [00:04<00:00, 64.5MB/s] \n",
      "Downloading data: 100%|██████████| 302M/302M [00:03<00:00, 91.8MB/s] \n",
      "Downloading data: 100%|██████████| 302M/302M [00:03<00:00, 88.2MB/s] \n",
      "Downloading data: 100%|██████████| 304M/304M [00:04<00:00, 74.3MB/s] \n",
      "Downloading data: 100%|██████████| 303M/303M [00:03<00:00, 78.6MB/s] \n",
      "Downloading data: 100%|██████████| 304M/304M [00:04<00:00, 68.3MB/s] \n",
      "Downloading data: 100%|██████████| 305M/305M [00:04<00:00, 74.2MB/s] \n",
      "Downloading data: 100%|██████████| 301M/301M [00:03<00:00, 85.1MB/s] \n",
      "Downloading data: 100%|██████████| 303M/303M [00:03<00:00, 87.6MB/s] \n",
      "Downloading data: 100%|██████████| 306M/306M [00:03<00:00, 82.2MB/s] \n",
      "Downloading data: 100%|██████████| 305M/305M [00:03<00:00, 95.3MB/s] \n",
      "Downloading data: 100%|██████████| 303M/303M [00:03<00:00, 77.7MB/s] \n",
      "Downloading data: 100%|██████████| 304M/304M [00:03<00:00, 79.6MB/s] \n",
      "Downloading data: 100%|██████████| 307M/307M [00:04<00:00, 75.8MB/s] \n",
      "Downloading data: 100%|██████████| 304M/304M [00:03<00:00, 79.1MB/s] \n",
      "Downloading data: 100%|██████████| 303M/303M [00:03<00:00, 80.6MB/s] \n",
      "Downloading data: 100%|██████████| 301M/301M [00:04<00:00, 70.2MB/s] \n",
      "Downloading data: 100%|██████████| 304M/304M [00:03<00:00, 78.9MB/s] \n",
      "Downloading data: 100%|██████████| 305M/305M [00:03<00:00, 78.0MB/s] \n",
      "Downloading data: 100%|██████████| 304M/304M [00:03<00:00, 80.3MB/s] \n",
      "Downloading data: 100%|██████████| 303M/303M [00:04<00:00, 71.9MB/s] \n",
      "Downloading data: 100%|██████████| 303M/303M [00:03<00:00, 83.6MB/s] \n",
      "Downloading data: 100%|██████████| 303M/303M [00:03<00:00, 80.1MB/s] \n",
      "Downloading data: 100%|██████████| 302M/302M [00:03<00:00, 91.7MB/s] \n",
      "Downloading data: 100%|██████████| 306M/306M [00:03<00:00, 78.7MB/s] \n",
      "Downloading data: 100%|██████████| 304M/304M [00:03<00:00, 78.4MB/s] \n",
      "Downloading data: 100%|██████████| 303M/303M [00:03<00:00, 79.7MB/s] \n",
      "Downloading data: 100%|██████████| 307M/307M [00:03<00:00, 88.4MB/s] \n",
      "Downloading data: 100%|██████████| 304M/304M [00:03<00:00, 82.2MB/s] \n",
      "Downloading data: 100%|██████████| 304M/304M [00:04<00:00, 70.5MB/s] \n",
      "Downloading data: 100%|██████████| 304M/304M [00:04<00:00, 72.2MB/s] \n",
      "Downloading data: 100%|██████████| 302M/302M [00:03<00:00, 86.9MB/s] \n",
      "Downloading data: 100%|██████████| 303M/303M [00:03<00:00, 83.3MB/s] \n",
      "Downloading data: 100%|██████████| 304M/304M [00:03<00:00, 79.0MB/s] \n",
      "Downloading data: 100%|██████████| 303M/303M [00:04<00:00, 67.2MB/s] \n",
      "Downloading data: 100%|██████████| 305M/305M [00:03<00:00, 80.2MB/s] \n",
      "Downloading data: 100%|██████████| 302M/302M [00:03<00:00, 81.9MB/s] \n",
      "Downloading data: 100%|██████████| 302M/302M [00:03<00:00, 91.2MB/s] \n",
      "Downloading data: 100%|██████████| 304M/304M [00:03<00:00, 84.1MB/s] \n",
      "Downloading data: 100%|██████████| 306M/306M [00:03<00:00, 83.1MB/s] \n",
      "Downloading data: 100%|██████████| 303M/303M [00:03<00:00, 87.7MB/s] \n",
      "Downloading data: 100%|██████████| 303M/303M [00:03<00:00, 81.2MB/s] \n",
      "Downloading data: 100%|██████████| 303M/303M [00:03<00:00, 89.8MB/s] \n",
      "Downloading data: 100%|██████████| 303M/303M [00:03<00:00, 78.2MB/s] \n",
      "Downloading data: 100%|██████████| 303M/303M [00:03<00:00, 78.1MB/s] \n",
      "Downloading data: 100%|██████████| 302M/302M [00:03<00:00, 87.4MB/s] \n",
      "Downloading data: 100%|██████████| 303M/303M [00:03<00:00, 94.4MB/s] \n",
      "Downloading data: 100%|██████████| 304M/304M [00:04<00:00, 69.2MB/s] \n",
      "Downloading data: 100%|██████████| 307M/307M [00:04<00:00, 66.6MB/s] \n",
      "Downloading data: 100%|██████████| 303M/303M [00:03<00:00, 90.0MB/s] \n",
      "Downloading data: 100%|██████████| 304M/304M [00:03<00:00, 77.8MB/s] \n",
      "Downloading data: 100%|██████████| 304M/304M [00:03<00:00, 83.8MB/s] \n",
      "Downloading data: 100%|██████████| 306M/306M [00:04<00:00, 73.3MB/s] \n",
      "Downloading data: 100%|██████████| 304M/304M [00:03<00:00, 81.7MB/s] \n",
      "Downloading data: 100%|██████████| 305M/305M [00:04<00:00, 61.2MB/s] \n",
      "Downloading data: 100%|██████████| 304M/304M [00:03<00:00, 85.1MB/s] \n",
      "Downloading data: 100%|██████████| 303M/303M [00:03<00:00, 87.0MB/s] \n",
      "Downloading data: 100%|██████████| 303M/303M [00:03<00:00, 76.4MB/s] \n",
      "Downloading data: 100%|██████████| 304M/304M [00:04<00:00, 70.4MB/s] \n",
      "Downloading data: 100%|██████████| 304M/304M [00:03<00:00, 82.3MB/s] \n",
      "Downloading data: 100%|██████████| 302M/302M [00:03<00:00, 76.0MB/s] \n",
      "Downloading data: 100%|██████████| 302M/302M [00:03<00:00, 78.2MB/s] \n",
      "Downloading data: 100%|██████████| 307M/307M [00:05<00:00, 57.8MB/s] \n",
      "Downloading data: 100%|██████████| 302M/302M [00:04<00:00, 74.6MB/s] \n",
      "Downloading data: 100%|██████████| 303M/303M [00:04<00:00, 71.7MB/s] \n",
      "Downloading data: 100%|██████████| 302M/302M [00:03<00:00, 83.9MB/s] \n",
      "Downloading data: 100%|██████████| 303M/303M [00:03<00:00, 83.8MB/s] \n",
      "Downloading data: 100%|██████████| 303M/303M [00:03<00:00, 87.3MB/s] \n",
      "Downloading data:   1%|▏         | 4.19M/304M [00:00<00:10, 29.8MB/s]"
     ]
    }
   ],
   "source": [
    "dataset = load_dataset(\"allenai/c4\", \"es\", split='train', download_config=DownloadConfig(resume_download=True)) # columns=['text']"
   ]
  },
  {
   "cell_type": "code",
   "execution_count": 13,
   "metadata": {},
   "outputs": [
    {
     "name": "stderr",
     "output_type": "stream",
     "text": [
      "Special tokens have been added in the vocabulary, make sure the associated word embeddings are fine-tuned or trained.\n",
      "Saving the dataset (1/1 shards): 100%|██████████| 7492/7492 [00:00<00:00, 44910.60 examples/s]\n"
     ]
    },
    {
     "name": "stdout",
     "output_type": "stream",
     "text": [
      "[2050, 2050, 2050, 2050, 2050, 2050]\n",
      "2049 2049 2049 2049 2049\n",
      "15360451\n"
     ]
    }
   ],
   "source": [
    "# es = load_dataset(\"allenai/c4\", \"es\", split='train')\n",
    "es = load_dataset(\"es/pile-10k\", split='train')\n",
    "\n",
    "tokenizer = AutoTokenizer.from_pretrained(\"EleutherAI/gpt-neox-20b\")\n",
    "\n",
    "data, bpb_ratio = chunk_and_tokenize(es, tokenizer, max_length=2049)\n",
    "data.save_to_disk(\"es_tokenized.hf\")\n",
    "\n",
    "\n",
    "print(data[\"length\"][0:6])\n",
    "print(len(data[\"input_ids\"][0]), len(data[\"input_ids\"][1]), len(data[\"input_ids\"][2]), len(data[\"input_ids\"][4]), len(data[\"input_ids\"][6]))\n",
    "print(sum(data[\"length\"]))"
   ]
  },
  {
   "cell_type": "code",
   "execution_count": 19,
   "metadata": {},
   "outputs": [
    {
     "name": "stdout",
     "output_type": "stream",
     "text": [
      "/home/lucia/features-across-time/scripts\n"
     ]
    }
   ],
   "source": [
    "print(os.getcwd())"
   ]
  },
  {
   "cell_type": "code",
   "execution_count": 17,
   "metadata": {},
   "outputs": [
    {
     "name": "stdout",
     "output_type": "stream",
     "text": [
      "7492\n"
     ]
    }
   ],
   "source": [
    "# first = 0\n",
    "# sec = 0\n",
    "# third = 0\n",
    "# four = 0\n",
    "# for item in data['length']:\n",
    "#     if item == 2048:\n",
    "#         first += 1\n",
    "#     elif item == 2049:\n",
    "#         sec += 1\n",
    "#     elif item == 2050:\n",
    "#         third += 1\n",
    "#     elif item == 2051:\n",
    "#         four += 1\n",
    "#     else:\n",
    "#         print(item)\n",
    "\n",
    "# print(first, sec, third, four)\n",
    "print(len(data))"
   ]
  },
  {
   "cell_type": "code",
   "execution_count": 18,
   "metadata": {},
   "outputs": [],
   "source": [
    "fp = np.memmap('es.bin', dtype=np.uint16, mode='w+', shape=(len(data), 2049))\n",
    "for i, item in enumerate(data):\n",
    "    fp[i] = item['input_ids'].numpy()\n",
    "fp.flush()"
   ]
  }
 ],
 "metadata": {
  "kernelspec": {
   "display_name": "3.10",
   "language": "python",
   "name": "python3"
  },
  "language_info": {
   "codemirror_mode": {
    "name": "ipython",
    "version": 3
   },
   "file_extension": ".py",
   "mimetype": "text/x-python",
   "name": "python",
   "nbconvert_exporter": "python",
   "pygments_lexer": "ipython3",
   "version": "3.10.14"
  }
 },
 "nbformat": 4,
 "nbformat_minor": 2
}
